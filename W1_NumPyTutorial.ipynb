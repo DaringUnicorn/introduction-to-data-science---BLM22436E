{
 "cells": [
  {
   "cell_type": "code",
   "execution_count": 1,
   "id": "1105df3c",
   "metadata": {},
   "outputs": [],
   "source": [
    "import numpy as np"
   ]
  },
  {
   "cell_type": "code",
   "execution_count": 2,
   "id": "bcd29df6",
   "metadata": {},
   "outputs": [],
   "source": [
    "# Create a 1-D NumPy array with elements 1, 2, 3 and 4\n",
    "np_array = np.array([1, 2, 3, 4])"
   ]
  },
  {
   "cell_type": "code",
   "execution_count": 3,
   "id": "d401bf4a",
   "metadata": {},
   "outputs": [
    {
     "data": {
      "text/plain": [
       "dtype('int64')"
      ]
     },
     "execution_count": 3,
     "metadata": {},
     "output_type": "execute_result"
    }
   ],
   "source": [
    "# Display the data type of the lements in the NumPy array\n",
    "np_array.dtype"
   ]
  },
  {
   "cell_type": "code",
   "execution_count": 4,
   "id": "a517d9f0",
   "metadata": {},
   "outputs": [],
   "source": [
    "# We can specify the type of data inside the array:\n",
    "np_array = np.array([1, 2, 3, 4], dtype=np.float32)"
   ]
  },
  {
   "cell_type": "code",
   "execution_count": 5,
   "id": "f848ab10",
   "metadata": {},
   "outputs": [
    {
     "data": {
      "text/plain": [
       "dtype('float32')"
      ]
     },
     "execution_count": 5,
     "metadata": {},
     "output_type": "execute_result"
    }
   ],
   "source": [
    "np_array.dtype"
   ]
  },
  {
   "cell_type": "code",
   "execution_count": 6,
   "id": "a22f7d35",
   "metadata": {},
   "outputs": [
    {
     "data": {
      "text/plain": [
       "array([1., 2., 3., 4.])"
      ]
     },
     "execution_count": 6,
     "metadata": {},
     "output_type": "execute_result"
    }
   ],
   "source": [
    "# Upcasting in NumPy arrays\n",
    "# If we do not specify the type, numpy will choose it for us:\n",
    "np.array([1, 2, 3.0, 4])"
   ]
  },
  {
   "cell_type": "code",
   "execution_count": 8,
   "id": "b9ade6e2",
   "metadata": {},
   "outputs": [
    {
     "data": {
      "text/plain": [
       "array([[1, 2, 3, 4],\n",
       "       [5, 6, 7, 8]])"
      ]
     },
     "execution_count": 8,
     "metadata": {},
     "output_type": "execute_result"
    }
   ],
   "source": [
    "# Multi-dimensional arrays\n",
    "# Create a 2D NumPy array (matrix) with two rows and four columns\n",
    "a = np.array([[1, 2, 3, 4], [5, 6, 7, 8]])\n",
    "a"
   ]
  },
  {
   "cell_type": "code",
   "execution_count": 9,
   "id": "7db9437c",
   "metadata": {},
   "outputs": [
    {
     "data": {
      "text/plain": [
       "array([0., 0., 0., 0., 0.])"
      ]
     },
     "execution_count": 9,
     "metadata": {},
     "output_type": "execute_result"
    }
   ],
   "source": [
    "# Cell: Array of zeros (1D)\n",
    "# Create a 1D array of zeros with length 5\n",
    "np.zeros(5)"
   ]
  },
  {
   "cell_type": "code",
   "execution_count": 11,
   "id": "273b1cee",
   "metadata": {},
   "outputs": [
    {
     "data": {
      "text/plain": [
       "array([[0., 0., 0., 0.],\n",
       "       [0., 0., 0., 0.],\n",
       "       [0., 0., 0., 0.]])"
      ]
     },
     "execution_count": 11,
     "metadata": {},
     "output_type": "execute_result"
    }
   ],
   "source": [
    "# Cell: Array of zeros (2D)\n",
    "# Create a 2D array of zeros with shape (3, 4)\n",
    "np.zeros((3, 4))"
   ]
  },
  {
   "cell_type": "code",
   "execution_count": 12,
   "id": "99c7f2fb",
   "metadata": {},
   "outputs": [
    {
     "data": {
      "text/plain": [
       "array([[[0., 0., 0., ..., 0., 0., 0.],\n",
       "        [0., 0., 0., ..., 0., 0., 0.],\n",
       "        [0., 0., 0., ..., 0., 0., 0.],\n",
       "        ...,\n",
       "        [0., 0., 0., ..., 0., 0., 0.],\n",
       "        [0., 0., 0., ..., 0., 0., 0.],\n",
       "        [0., 0., 0., ..., 0., 0., 0.]],\n",
       "\n",
       "       [[0., 0., 0., ..., 0., 0., 0.],\n",
       "        [0., 0., 0., ..., 0., 0., 0.],\n",
       "        [0., 0., 0., ..., 0., 0., 0.],\n",
       "        ...,\n",
       "        [0., 0., 0., ..., 0., 0., 0.],\n",
       "        [0., 0., 0., ..., 0., 0., 0.],\n",
       "        [0., 0., 0., ..., 0., 0., 0.]],\n",
       "\n",
       "       [[0., 0., 0., ..., 0., 0., 0.],\n",
       "        [0., 0., 0., ..., 0., 0., 0.],\n",
       "        [0., 0., 0., ..., 0., 0., 0.],\n",
       "        ...,\n",
       "        [0., 0., 0., ..., 0., 0., 0.],\n",
       "        [0., 0., 0., ..., 0., 0., 0.],\n",
       "        [0., 0., 0., ..., 0., 0., 0.]],\n",
       "\n",
       "       ...,\n",
       "\n",
       "       [[0., 0., 0., ..., 0., 0., 0.],\n",
       "        [0., 0., 0., ..., 0., 0., 0.],\n",
       "        [0., 0., 0., ..., 0., 0., 0.],\n",
       "        ...,\n",
       "        [0., 0., 0., ..., 0., 0., 0.],\n",
       "        [0., 0., 0., ..., 0., 0., 0.],\n",
       "        [0., 0., 0., ..., 0., 0., 0.]],\n",
       "\n",
       "       [[0., 0., 0., ..., 0., 0., 0.],\n",
       "        [0., 0., 0., ..., 0., 0., 0.],\n",
       "        [0., 0., 0., ..., 0., 0., 0.],\n",
       "        ...,\n",
       "        [0., 0., 0., ..., 0., 0., 0.],\n",
       "        [0., 0., 0., ..., 0., 0., 0.],\n",
       "        [0., 0., 0., ..., 0., 0., 0.]],\n",
       "\n",
       "       [[0., 0., 0., ..., 0., 0., 0.],\n",
       "        [0., 0., 0., ..., 0., 0., 0.],\n",
       "        [0., 0., 0., ..., 0., 0., 0.],\n",
       "        ...,\n",
       "        [0., 0., 0., ..., 0., 0., 0.],\n",
       "        [0., 0., 0., ..., 0., 0., 0.],\n",
       "        [0., 0., 0., ..., 0., 0., 0.]]], shape=(100, 512, 512))"
      ]
     },
     "execution_count": 12,
     "metadata": {},
     "output_type": "execute_result"
    }
   ],
   "source": [
    "# Cell: Array of zeros (3D)\n",
    "# Create a 3D array of zeros with shape (100, 512, 512)\n",
    "np.zeros((100, 512, 512))"
   ]
  },
  {
   "cell_type": "code",
   "execution_count": 13,
   "id": "7ed625e7",
   "metadata": {},
   "outputs": [
    {
     "data": {
      "text/plain": [
       "array([1, 1, 1, 1, 1], dtype=int32)"
      ]
     },
     "execution_count": 13,
     "metadata": {},
     "output_type": "execute_result"
    }
   ],
   "source": [
    "# Cell: Array of ones (1D)\n",
    "np.ones(5, dtype=np.int32)"
   ]
  },
  {
   "cell_type": "code",
   "execution_count": 14,
   "id": "3ec6717a",
   "metadata": {},
   "outputs": [
    {
     "data": {
      "text/plain": [
       "array([[1., 1., 1., 1.],\n",
       "       [1., 1., 1., 1.],\n",
       "       [1., 1., 1., 1.]])"
      ]
     },
     "execution_count": 14,
     "metadata": {},
     "output_type": "execute_result"
    }
   ],
   "source": [
    "# Cell: Array of ones (2D)\n",
    "np.ones((3, 4))"
   ]
  },
  {
   "cell_type": "code",
   "execution_count": 15,
   "id": "8f9969f1",
   "metadata": {},
   "outputs": [
    {
     "data": {
      "text/plain": [
       "array([[0.69305038, 0.5383349 , 0.83689626],\n",
       "       [0.2554069 , 0.70395405, 0.21882615]])"
      ]
     },
     "execution_count": 15,
     "metadata": {},
     "output_type": "execute_result"
    }
   ],
   "source": [
    "# Cell: Random numbers in array\n",
    "np.random.rand(2, 3)"
   ]
  },
  {
   "cell_type": "code",
   "execution_count": 16,
   "id": "a431848b",
   "metadata": {},
   "outputs": [
    {
     "data": {
      "text/plain": [
       "array([[5, 5, 5],\n",
       "       [5, 5, 5]])"
      ]
     },
     "execution_count": 16,
     "metadata": {},
     "output_type": "execute_result"
    }
   ],
   "source": [
    "# Cell: Array fille with a specific value\n",
    "# Create a 2x3 array filled with the value 5\n",
    "np.full((2, 3), 5)"
   ]
  },
  {
   "cell_type": "code",
   "execution_count": 17,
   "id": "cfc075a2",
   "metadata": {},
   "outputs": [
    {
     "data": {
      "text/plain": [
       "array([10, 15, 20, 25])"
      ]
     },
     "execution_count": 17,
     "metadata": {},
     "output_type": "execute_result"
    }
   ],
   "source": [
    "# Cell: Sequence of numbers (arange)\n",
    "# Create a 1D array with values from 10 to 25 (step 5)\n",
    "np.arange(10, 30, 5)"
   ]
  },
  {
   "cell_type": "code",
   "execution_count": 18,
   "id": "d2db99af",
   "metadata": {},
   "outputs": [
    {
     "data": {
      "text/plain": [
       "array([0. , 0.3, 0.6, 0.9, 1.2, 1.5, 1.8])"
      ]
     },
     "execution_count": 18,
     "metadata": {},
     "output_type": "execute_result"
    }
   ],
   "source": [
    "# Cell: Sequence of numbers with float step\n",
    "# Create a 1D array with values from 0 to 2 (step 0.3)\n",
    "np.arange(0, 2, 0.3) # it accepts float arguments"
   ]
  },
  {
   "cell_type": "code",
   "execution_count": 19,
   "id": "cc3be5ba",
   "metadata": {},
   "outputs": [
    {
     "data": {
      "text/plain": [
       "array([0. , 0.1, 0.2, 0.3, 0.4, 0.5, 0.6, 0.7, 0.8, 0.9, 1. ])"
      ]
     },
     "execution_count": 19,
     "metadata": {},
     "output_type": "execute_result"
    }
   ],
   "source": [
    "# Cell: Evenly spaced numbers (linspace)\n",
    "# Create 11 evenly spaced numbers between 0 and 1 (inclusive)\n",
    "np.linspace(0, 1, 11)"
   ]
  },
  {
   "cell_type": "code",
   "execution_count": 20,
   "id": "26f4770f",
   "metadata": {},
   "outputs": [
    {
     "data": {
      "text/plain": [
       "array([[1., 0., 0.],\n",
       "       [0., 1., 0.],\n",
       "       [0., 0., 1.]])"
      ]
     },
     "execution_count": 20,
     "metadata": {},
     "output_type": "execute_result"
    }
   ],
   "source": [
    "# Cell: Identify matrix\n",
    "# Create a 3x3 identity matrix (ones on main diagonal)\n",
    "np.eye(3, k=0)"
   ]
  },
  {
   "cell_type": "code",
   "execution_count": 21,
   "id": "9af4ebc2",
   "metadata": {},
   "outputs": [
    {
     "data": {
      "text/plain": [
       "array([[0., 1., 0.],\n",
       "       [0., 0., 1.],\n",
       "       [0., 0., 0.]])"
      ]
     },
     "execution_count": 21,
     "metadata": {},
     "output_type": "execute_result"
    }
   ],
   "source": [
    "# Cell: Identity matrix (above main diagonal)\n",
    "# Create a 3x3 identity matrix with ones above the main diagonal\n",
    "np.eye(3, k=1)"
   ]
  },
  {
   "cell_type": "code",
   "execution_count": 22,
   "id": "cdaee686",
   "metadata": {},
   "outputs": [
    {
     "data": {
      "text/plain": [
       "array([[0., 0., 0.],\n",
       "       [1., 0., 0.],\n",
       "       [0., 1., 0.]])"
      ]
     },
     "execution_count": 22,
     "metadata": {},
     "output_type": "execute_result"
    }
   ],
   "source": [
    "# Cell: Identity matrix (below main diagonal)\n",
    "# Create a 3x3 identity matrix with ones below the main diagonal\n",
    "np.eye(3, k=-1)"
   ]
  },
  {
   "cell_type": "code",
   "execution_count": null,
   "id": "df3f0da8",
   "metadata": {},
   "outputs": [
    {
     "name": "stdout",
     "output_type": "stream",
     "text": [
      "Array: \n",
      " [[ 5 10 15]\n",
      " [20 25 30]]\n",
      "Dimension of the array: \n",
      " 2\n"
     ]
    }
   ],
   "source": [
    "# Cell: Array shape and dimension\n",
    "# Create 2x3 array and print its dimensions\n",
    "a = np.array([[5, 10, 15], [20, 25, 30]])\n",
    "print(\"Array: \" \"\\n\", a)\n",
    "print(\"Dimension of the array:\", \"\\n\", a.ndim)"
   ]
  },
  {
   "cell_type": "code",
   "execution_count": 26,
   "id": "afe7b7c0",
   "metadata": {},
   "outputs": [
    {
     "name": "stdout",
     "output_type": "stream",
     "text": [
      "Array:\n",
      " [[0 1 2]\n",
      " [3 4 5]]\n",
      "Shape of the array:  (2, 3)\n",
      "Number of rows =  2\n",
      "Number of columns =  3\n",
      "Size of array:  6\n",
      "Manual determination of size of array:  6\n"
     ]
    }
   ],
   "source": [
    "# Cell: Array shape, size and manual size calculation\n",
    "# Create a 2x3 array and print shape, size, rows and columns\n",
    "a = np.arange(6).reshape((2, 3))\n",
    "print(\"Array:\\n\", a)\n",
    "print(\"Shape of the array: \", a.shape)\n",
    "print(\"Number of rows = \", a.shape[0])\n",
    "print(\"Number of columns = \", a.shape[1])\n",
    "print(\"Size of array: \", a.size)\n",
    "print(\"Manual determination of size of array: \", a.shape[0] * a.shape[1])"
   ]
  },
  {
   "cell_type": "code",
   "execution_count": 27,
   "id": "9861886b",
   "metadata": {},
   "outputs": [
    {
     "data": {
      "text/plain": [
       "array([[ 3,  6],\n",
       "       [ 9, 12]])"
      ]
     },
     "execution_count": 27,
     "metadata": {},
     "output_type": "execute_result"
    }
   ],
   "source": [
    "# Cell: Reshape array\n",
    "# Reshape a 1D array of 4 elements to 2x2\n",
    "a = np.array([3, 6, 9, 12])\n",
    "np.reshape(a, (2, 2))"
   ]
  },
  {
   "cell_type": "code",
   "execution_count": 29,
   "id": "c118c434",
   "metadata": {},
   "outputs": [
    {
     "name": "stdout",
     "output_type": "stream",
     "text": [
      "Three rows: \n",
      " [[ 3  6]\n",
      " [ 9 12]\n",
      " [15 18]]\n",
      "Three columns: \n",
      " [[ 3  6  9]\n",
      " [12 15 18]]\n"
     ]
    }
   ],
   "source": [
    "# Cell: Reshape with -1\n",
    "# Reshape a 1D array to 3 rows or 3 columns using -1\n",
    "a = np.array([3, 6, 9, 12, 15, 18])\n",
    "print(\"Three rows: \\n\", np.reshape(a, (3, -1)))\n",
    "print(\"Three columns: \\n\", np.reshape(a, (-1, 3)))"
   ]
  },
  {
   "cell_type": "code",
   "execution_count": 30,
   "id": "05486d46",
   "metadata": {},
   "outputs": [
    {
     "name": "stdout",
     "output_type": "stream",
     "text": [
      "Original shape : (2, 2)\n",
      "Array : \n",
      " [[1. 1.]\n",
      " [1. 1.]]\n",
      "Shape after flatten : (4,)\n",
      "Array : \n",
      " [1. 1. 1. 1.]\n",
      "Shape after ravel : (4,)\n",
      "Array : \n",
      " [1. 1. 1. 1.]\n"
     ]
    }
   ],
   "source": [
    "# Cell: Flatten and Ravel\n",
    "# Flatten and ravel a 2x2 array and show shapes\n",
    "a = np.ones((2, 2))\n",
    "b = a.flatten()\n",
    "c = a.ravel()\n",
    "print('Original shape :', a.shape)\n",
    "print('Array :','\\n', a)\n",
    "print('Shape after flatten :',b.shape)\n",
    "print('Array :','\\n', b)\n",
    "print('Shape after ravel :',c.shape)\n",
    "print('Array :','\\n', c)"
   ]
  },
  {
   "cell_type": "code",
   "execution_count": 31,
   "id": "667ac266",
   "metadata": {},
   "outputs": [
    {
     "name": "stdout",
     "output_type": "stream",
     "text": [
      "[[1. 1.]\n",
      " [1. 1.]]\n"
     ]
    }
   ],
   "source": [
    "b[0] = 0\n",
    "print(a)"
   ]
  },
  {
   "cell_type": "code",
   "execution_count": 34,
   "id": "4b36d73d",
   "metadata": {},
   "outputs": [
    {
     "name": "stdout",
     "output_type": "stream",
     "text": [
      "[[0. 1.]\n",
      " [1. 1.]]\n"
     ]
    }
   ],
   "source": [
    "c[0] = 0\n",
    "print(a)\n"
   ]
  },
  {
   "cell_type": "code",
   "execution_count": 35,
   "id": "4836cfe6",
   "metadata": {},
   "outputs": [],
   "source": [
    "# Cell: Array math (addition, ones)\n",
    "# Create two arrays and add them element-wise\n",
    "data = np.array([1, 2])\n",
    "ones = np.ones(2, dtype=int)"
   ]
  },
  {
   "cell_type": "code",
   "execution_count": null,
   "id": "2459c7e1",
   "metadata": {},
   "outputs": [
    {
     "name": "stdout",
     "output_type": "stream",
     "text": [
      "Addition of two array:\n",
      " [2 3]\n"
     ]
    }
   ],
   "source": [
    "# Cell: Addition\n",
    "# Add two arrays and print result\n",
    "add = data + ones\n",
    "print(\"Addition of two array:\\n\", add)"
   ]
  },
  {
   "cell_type": "code",
   "execution_count": 37,
   "id": "ca7ecf46",
   "metadata": {},
   "outputs": [
    {
     "name": "stdout",
     "output_type": "stream",
     "text": [
      "Subraction of two array: \n",
      " [0 1]\n",
      "Multiplication of two array \n",
      " [1 4]\n",
      "Division by a constant \n",
      " [1. 1.]\n"
     ]
    }
   ],
   "source": [
    "# Cell: Subtraction, multiplication, division\n",
    "# Subtract, multiply, and divide arrays element-wise\n",
    "sub = data - ones\n",
    "print('Subraction of two array:','\\n',sub)\n",
    "\n",
    "#Multiplication:\n",
    "multi = data*data\n",
    "print('Multiplication of two array','\\n',multi)\n",
    "\n",
    "#Division:u\n",
    "div = data/data\n",
    "print('Division by a constant','\\n',div)"
   ]
  },
  {
   "cell_type": "code",
   "execution_count": 38,
   "id": "bf501b2c",
   "metadata": {},
   "outputs": [
    {
     "name": "stdout",
     "output_type": "stream",
     "text": [
      "Mean:  9.0\n",
      "Standard deviation:  2.8284271247461903\n",
      "Median:  9.0\n"
     ]
    }
   ],
   "source": [
    "# Cell: Mean, std, median\n",
    "# Calculate mean, standard deviation, and median of array\n",
    "a = np.arange(5, 15, 2)\n",
    "print(\"Mean: \", np.mean(a))\n",
    "print(\"Standard deviation: \", np.std(a))\n",
    "print(\"Median: \", np.median(a))"
   ]
  },
  {
   "cell_type": "code",
   "execution_count": 43,
   "id": "a05c42f3",
   "metadata": {},
   "outputs": [
    {
     "name": "stdout",
     "output_type": "stream",
     "text": [
      "Min:  [1 3]\n",
      "Min:  [1 3]\n",
      "Max:  [6 4]\n",
      "Max:  [4 6]\n"
     ]
    }
   ],
   "source": [
    "# Cell: Min/Max values along axes\n",
    "# Find min along columns and max along rows\n",
    "a = np.array([[1, 6], [4, 3]])\n",
    "\n",
    "# Minimum along a column\n",
    "print(\"Min: \", np.min(a, axis=0))\n",
    "print(\"Min: \", np.min(a, axis=1))\n",
    "\n",
    "# Maximum along a row\n",
    "print(\"Max: \", np.max(a, axis=1))\n",
    "print(\"Max: \", np.max(a, axis=0))\n"
   ]
  },
  {
   "cell_type": "code",
   "execution_count": 44,
   "id": "8ccc548d",
   "metadata": {},
   "outputs": [
    {
     "name": "stdout",
     "output_type": "stream",
     "text": [
      "Sorted array:\n",
      " [1 2 3 4 5 6 7 8 9]\n",
      "Sort along row:\n",
      "\n",
      "Sort along column:\n",
      " [[5 2 3 4]\n",
      " [9 6 7 7]]\n"
     ]
    }
   ],
   "source": [
    "# Cell: Sorting arrays\n",
    "# Sort a 1D array and a 2D array along rows and columns\n",
    "a = np.array([1, 4, 2, 5, 3, 6, 8, 7, 9])\n",
    "print(\"Sorted array:\\n\", np.sort(a, kind=\"quicksort\"))\n",
    "\n",
    "b = np.array([[5, 6, 7, 4], [9, 2, 3, 7]])\n",
    "print(\"Sort along row:\\n\"), np.sort(b, kind=\"mergesort\", axis=1)\n",
    "\n",
    "# Sort along the column\n",
    "print(\"Sort along column:\\n\", np.sort(b, kind=\"mergesort\", axis=0))"
   ]
  },
  {
   "cell_type": "code",
   "execution_count": 45,
   "id": "39dee212",
   "metadata": {},
   "outputs": [
    {
     "name": "stdout",
     "output_type": "stream",
     "text": [
      "[2 3 4 5]\n"
     ]
    }
   ],
   "source": [
    "# Cell: Slicing 1D arrays\n",
    "# Slice a 1D array from index 1 to 4\n",
    "# initial position: included\n",
    "# final position: excluded\n",
    "a = np.array([1, 2, 3, 4, 5, 6, 7])\n",
    "print(a[1:5])"
   ]
  },
  {
   "cell_type": "code",
   "execution_count": 46,
   "id": "3c621962",
   "metadata": {},
   "outputs": [
    {
     "name": "stdout",
     "output_type": "stream",
     "text": [
      "[1 4 7]\n"
     ]
    }
   ],
   "source": [
    "# Cell: Slicing with step\n",
    "# Print every third element of array\n",
    "print(a[::3])"
   ]
  },
  {
   "cell_type": "code",
   "execution_count": 48,
   "id": "a57383d7",
   "metadata": {},
   "outputs": [
    {
     "name": "stdout",
     "output_type": "stream",
     "text": [
      "[1 3 5]\n",
      "[2 4 6]\n",
      "[2 3 4 5 6]\n"
     ]
    }
   ],
   "source": [
    "# Cell: Slicing with step size\n",
    "# Print elements with step size 2, odd indices, etc.\n",
    "# 3rd: step size\n",
    "print(a[:6:2])\n",
    "print(a[1::2])\n",
    "print(a[1:6])"
   ]
  },
  {
   "cell_type": "code",
   "execution_count": 49,
   "id": "86ddadee",
   "metadata": {},
   "outputs": [
    {
     "name": "stdout",
     "output_type": "stream",
     "text": [
      "First row values : \n",
      " [[1 2 3]]\n",
      "Second column values : \n",
      " [[2]\n",
      " [5]]\n",
      "Arbitrary values : \n",
      " [[2 3]]\n"
     ]
    }
   ],
   "source": [
    "# Cell: Slicing 2D arrays\n",
    "# Slice rows and columns of a 2D array\n",
    "a = np.array([[1,2,3],\n",
    "              [4,5,6]])\n",
    "# print first row values\n",
    "print('First row values :','\\n',a[0:1,:])\n",
    "# with step-size for columns\n",
    "#print('Alternate values from first row:','\\n',a[0:1,::2])\n",
    "# \n",
    "print('Second column values :','\\n',a[:,1::2])\n",
    "print('Arbitrary values :','\\n',a[0:1,1:3])"
   ]
  }
 ],
 "metadata": {
  "kernelspec": {
   "display_name": "Python 3",
   "language": "python",
   "name": "python3"
  },
  "language_info": {
   "codemirror_mode": {
    "name": "ipython",
    "version": 3
   },
   "file_extension": ".py",
   "mimetype": "text/x-python",
   "name": "python",
   "nbconvert_exporter": "python",
   "pygments_lexer": "ipython3",
   "version": "3.11.6"
  }
 },
 "nbformat": 4,
 "nbformat_minor": 5
}
